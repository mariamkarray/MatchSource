{
 "cells": [
  {
   "cell_type": "code",
   "execution_count": 83,
   "metadata": {},
   "outputs": [],
   "source": [
    "import pandas as pd\n",
    "from gensim.models import TfidfModel, LdaModel, CoherenceModel, Nmf\n",
    "from pprint import pprint"
   ]
  },
  {
   "cell_type": "code",
   "execution_count": 84,
   "metadata": {},
   "outputs": [],
   "source": [
    "df = pd.read_csv('feed.csv')"
   ]
  },
  {
   "cell_type": "code",
   "execution_count": 85,
   "metadata": {},
   "outputs": [],
   "source": [
    "projects = []\n",
    "\n",
    "for i in range(len(df)):\n",
    "    project = str(df['project_description'][i]) + str(df['fields_of_science'][i]) + str(df['keywords'][i])\n",
    "    projects.append(project)"
   ]
  },
  {
   "cell_type": "code",
   "execution_count": 19,
   "metadata": {},
   "outputs": [],
   "source": [
    "import helpers\n",
    "\n",
    "projects_clean = helpers.preprocess_documents(projects)\n",
    "projects_tfidf, projects_bow, dictionary = helpers.get_tfidf_representation(projects_clean)"
   ]
  },
  {
   "cell_type": "code",
   "execution_count": 92,
   "metadata": {},
   "outputs": [],
   "source": [
    "number_of_topics = 12"
   ]
  },
  {
   "cell_type": "code",
   "execution_count": 93,
   "metadata": {},
   "outputs": [],
   "source": [
    "lda_model = LdaModel(corpus=projects_bow,\n",
    "                     id2word=dictionary,\n",
    "                     num_topics=number_of_topics,\n",
    "                     passes=10,\n",
    "                     iterations=100)\n"
   ]
  },
  {
   "cell_type": "code",
   "execution_count": 94,
   "metadata": {},
   "outputs": [
    {
     "name": "stdout",
     "output_type": "stream",
     "text": [
      "Coherence Score of LDA model with 12 topics: 0.34\n"
     ]
    }
   ],
   "source": [
    "# Coherence Score for LDA Model with n topics\n",
    "coherence_model_lda = CoherenceModel(model=lda_model, texts=projects_clean, dictionary=dictionary, coherence='c_v')\n",
    "coherence_lda = coherence_model_lda.get_coherence()\n",
    "print(f'Coherence Score of LDA model with {number_of_topics} topics: {coherence_lda:.2f}')\n"
   ]
  },
  {
   "cell_type": "code",
   "execution_count": null,
   "metadata": {},
   "outputs": [],
   "source": [
    "topics = lda_model.show_topics(num_topics=10, num_words=10)\n",
    "for topic in topics:\n",
    "    print(topic)"
   ]
  },
  {
   "cell_type": "code",
   "execution_count": 45,
   "metadata": {},
   "outputs": [
    {
     "data": {
      "text/plain": [
       "[(2, 0.9879956)]"
      ]
     },
     "execution_count": 45,
     "metadata": {},
     "output_type": "execute_result"
    }
   ],
   "source": [
    "lda_model.get_document_topics(projects_bow[61])"
   ]
  },
  {
   "cell_type": "code",
   "execution_count": 46,
   "metadata": {},
   "outputs": [
    {
     "name": "stdout",
     "output_type": "stream",
     "text": [
      "('The purpose of SMAP-SOC is to provide BLM natural resource managers with an '\n",
      " 'application to model the current and future distributions of freshwater '\n",
      " 'species of concern (SOC), across large management regions. These models will '\n",
      " 'be based on occurrences from both crowdsourced data and detections using '\n",
      " 'environmental DNA (e-DNA). These occurrences will then be related to Earth '\n",
      " 'observations and other spatial data so distributions can be predicted across '\n",
      " 'landscapes.Animals, Ecology and environment,  Nature and outdoorsfreshwater, '\n",
      " 'fish, Alaska, rivers, lakes, threatened and endangered')\n"
     ]
    }
   ],
   "source": [
    "pprint(projects[2])"
   ]
  },
  {
   "cell_type": "code",
   "execution_count": 80,
   "metadata": {},
   "outputs": [],
   "source": [
    "# apply Non-negative matrix Factorizaion with TF-IDF and 15 topics\n",
    "nmf_model = Nmf(corpus=projects_tfidf,\n",
    "                id2word=dictionary,\n",
    "                num_topics = number_of_topics,\n",
    "                random_state = 42)\n",
    "    "
   ]
  },
  {
   "cell_type": "code",
   "execution_count": 81,
   "metadata": {},
   "outputs": [
    {
     "name": "stdout",
     "output_type": "stream",
     "text": [
      "(0, '0.008*\"wildlife\" + 0.006*\"weather\" + 0.006*\"climate\" + 0.006*\"survey\" + 0.005*\"bird\" + 0.005*\"data\" + 0.005*\"geology\" + 0.005*\"earth\" + 0.004*\"computer\" + 0.004*\"exploration\"')\n",
      "(1, '0.011*\"air\" + 0.009*\"community\" + 0.007*\"environmental\" + 0.007*\"quality\" + 0.006*\"monitoring\" + 0.006*\"sensor\" + 0.005*\"water\" + 0.005*\"epa\" + 0.005*\"whale\" + 0.005*\"data\"')\n",
      "(2, '0.010*\"park\" + 0.008*\"bioblitz\" + 0.007*\"national\" + 0.007*\"taxonomic\" + 0.007*\"explore\" + 0.007*\"organism\" + 0.007*\"group\" + 0.006*\"site\" + 0.006*\"water\" + 0.005*\"education\"')\n",
      "(3, '0.008*\"capital\" + 0.006*\"region\" + 0.006*\"history\" + 0.006*\"historic\" + 0.005*\"park\" + 0.005*\"school\" + 0.005*\"student\" + 0.005*\"explore\" + 0.005*\"planet\" + 0.005*\"national\"')\n",
      "(4, '0.010*\"forest\" + 0.007*\"bird\" + 0.006*\"national\" + 0.006*\"bioblitz\" + 0.006*\"pollinator\" + 0.006*\"monitoring\" + 0.006*\"specie\" + 0.005*\"park\" + 0.005*\"scientist\" + 0.005*\"insect\"')\n"
     ]
    }
   ],
   "source": [
    "topics = nmf_model.show_topics(num_topics=number_of_topics, num_words=10)\n",
    "for topic in topics:\n",
    "    print(topic)"
   ]
  },
  {
   "cell_type": "code",
   "execution_count": 82,
   "metadata": {},
   "outputs": [
    {
     "name": "stdout",
     "output_type": "stream",
     "text": [
      "Coherence Score of NMF model: 0.33\n"
     ]
    }
   ],
   "source": [
    "# Coherence Score for NMF Model\n",
    "coherence_model_nmf = CoherenceModel(model=nmf_model, texts=projects_clean, dictionary=dictionary, coherence='c_v')\n",
    "coherence_nmf = coherence_model_nmf.get_coherence()\n",
    "print(f'Coherence Score of NMF model: {coherence_nmf:.2f}')\n"
   ]
  },
  {
   "cell_type": "code",
   "execution_count": null,
   "metadata": {},
   "outputs": [],
   "source": []
  }
 ],
 "metadata": {
  "kernelspec": {
   "display_name": ".venv",
   "language": "python",
   "name": "python3"
  },
  "language_info": {
   "codemirror_mode": {
    "name": "ipython",
    "version": 3
   },
   "file_extension": ".py",
   "mimetype": "text/x-python",
   "name": "python",
   "nbconvert_exporter": "python",
   "pygments_lexer": "ipython3",
   "version": "3.10.12"
  },
  "orig_nbformat": 4
 },
 "nbformat": 4,
 "nbformat_minor": 2
}
