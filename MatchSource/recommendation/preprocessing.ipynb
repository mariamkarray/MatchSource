{
 "cells": [
  {
   "cell_type": "code",
   "execution_count": null,
   "metadata": {},
   "outputs": [],
   "source": [
    "import pandas as pd\n",
    "import numpy as np\n",
    "import tqdm\n",
    "import string\n",
    "import nltk\n",
    "nltk.download('punkt')\n",
    "nltk.download('stopwords')\n",
    "nltk.download('wordnet')\n",
    "from nltk.tokenize import word_tokenize\n",
    "from nltk.corpus import stopwords\n",
    "from nltk.stem import WordNetLemmatizer\n",
    "stop_words = set(stopwords.words('english'))\n",
    "\n",
    "\n",
    "from pprint import pprint\n",
    "\n",
    "\n",
    "from sklearn.feature_extraction.text import TfidfVectorizer, CountVectorizer\n",
    "import gensim\n",
    "from gensim.utils import simple_preprocess\n",
    "from gensim.parsing.preprocessing import STOPWORDS\n",
    "from gensim.corpora import Dictionary\n",
    "from gensim.models import TfidfModel, LdaModel, CoherenceModel\n"
   ]
  },
  {
   "cell_type": "code",
   "execution_count": 2,
   "metadata": {},
   "outputs": [],
   "source": [
    "df = pd.read_csv('feed.csv')"
   ]
  },
  {
   "cell_type": "code",
   "execution_count": 16,
   "metadata": {},
   "outputs": [],
   "source": [
    "projects = []\n",
    "\n",
    "for i in range(len(df)):\n",
    "    project = str(df['project_description'][i]) + str(df['fields_of_science'][i]) + str(df['keywords'][i])\n",
    "    projects.append(project)"
   ]
  },
  {
   "cell_type": "code",
   "execution_count": 17,
   "metadata": {},
   "outputs": [
    {
     "name": "stderr",
     "output_type": "stream",
     "text": [
      "  0%|          | 0/503 [00:00<?, ?it/s]"
     ]
    },
    {
     "name": "stderr",
     "output_type": "stream",
     "text": [
      "100%|██████████| 503/503 [00:00<00:00, 1366.19it/s]\n"
     ]
    }
   ],
   "source": [
    "from helpers import preprocess_text\n",
    "preprocessed_projects = [preprocess_text(project) for project in tqdm.tqdm(projects)]"
   ]
  },
  {
   "cell_type": "code",
   "execution_count": 19,
   "metadata": {},
   "outputs": [],
   "source": [
    "# convert to series for easier manipulation\n",
    "preprocessed_projects = pd.Series(preprocessed_projects)\n",
    "\n",
    "# create Dictionary from preprocessed articles\n",
    "dictionary = Dictionary(preprocessed_projects)\n",
    "\n",
    "# filter out tokens that appear too much or too little\n",
    "dictionary.filter_extremes(no_below=2, no_above=0.5, keep_n=150000)\n"
   ]
  },
  {
   "cell_type": "code",
   "execution_count": 34,
   "metadata": {},
   "outputs": [],
   "source": [
    "projects_bow = [dictionary.doc2bow(doc) for doc in preprocessed_projects]"
   ]
  },
  {
   "cell_type": "code",
   "execution_count": 35,
   "metadata": {},
   "outputs": [],
   "source": [
    "# create TF-IDF encoder from BoW corpus\n",
    "tfidf_encoder = TfidfModel(projects_bow)\n",
    "\n",
    "# weighted tfidf corpus\n",
    "projects_tfidf = tfidf_encoder[projects_bow]\n"
   ]
  },
  {
   "cell_type": "code",
   "execution_count": 28,
   "metadata": {},
   "outputs": [],
   "source": [
    "# Apply LDA with 12 topics\n",
    "lda_model = LdaModel(corpus=corpus_bow,\n",
    "                     id2word=dictionary,\n",
    "                     num_topics=10,\n",
    "                     passes=10,\n",
    "                     iterations=100)\n"
   ]
  },
  {
   "cell_type": "code",
   "execution_count": 29,
   "metadata": {},
   "outputs": [
    {
     "name": "stdout",
     "output_type": "stream",
     "text": [
      "(0, '0.039*\"bird\" + 0.038*\"survey\" + 0.030*\"population\" + 0.020*\"help\" + 0.019*\"wildlife\" + 0.018*\"state\" + 0.017*\"scientist\" + 0.017*\"animal\"')\n",
      "(1, '0.038*\"data\" + 0.028*\"climate\" + 0.016*\"weather\" + 0.014*\"change\" + 0.014*\"time\" + 0.013*\"project\" + 0.013*\"earth\" + 0.012*\"system\"')\n",
      "(2, '0.036*\"data\" + 0.021*\"weather\" + 0.020*\"sea\" + 0.019*\"project\" + 0.018*\"change\" + 0.017*\"climate\" + 0.016*\"scientist\" + 0.015*\"animal\"')\n",
      "(3, '0.044*\"park\" + 0.030*\"specie\" + 0.030*\"national\" + 0.021*\"ecology\" + 0.019*\"environment\" + 0.019*\"pollinator\" + 0.017*\"scientist\" + 0.016*\"plant\"')\n",
      "(4, '0.044*\"community\" + 0.033*\"project\" + 0.028*\"research\" + 0.024*\"system\" + 0.017*\"environmental\" + 0.014*\"developing\" + 0.014*\"use\" + 0.013*\"study\"')\n",
      "(5, '0.051*\"air\" + 0.043*\"sensor\" + 0.030*\"data\" + 0.025*\"quality\" + 0.024*\"community\" + 0.020*\"cost\" + 0.019*\"epa\" + 0.018*\"low\"')\n",
      "(6, '0.064*\"park\" + 0.063*\"education\" + 0.057*\"national\" + 0.054*\"bioblitz\" + 0.042*\"specie\" + 0.020*\"group\" + 0.020*\"bird\" + 0.018*\"explore\"')\n",
      "(7, '0.064*\"national\" + 0.048*\"event\" + 0.047*\"bioblitz\" + 0.047*\"education\" + 0.036*\"park\" + 0.036*\"part\" + 0.034*\"showcase\" + 0.032*\"group\"')\n",
      "(8, '0.027*\"water\" + 0.026*\"data\" + 0.020*\"monitoring\" + 0.018*\"marine\" + 0.016*\"program\" + 0.014*\"ecology\" + 0.014*\"project\" + 0.014*\"environment\"')\n",
      "(9, '0.038*\"water\" + 0.031*\"bird\" + 0.030*\"ecology\" + 0.024*\"health\" + 0.023*\"environment\" + 0.021*\"quality\" + 0.016*\"monitoring\" + 0.015*\"volunteer\"')\n"
     ]
    }
   ],
   "source": [
    "topics = lda_model.show_topics(num_topics=10, num_words=8)\n",
    "for topic in topics:\n",
    "    print(topic)"
   ]
  },
  {
   "cell_type": "code",
   "execution_count": 33,
   "metadata": {},
   "outputs": [
    {
     "data": {
      "text/plain": [
       "[(5, 0.55972165), (9, 0.42598894)]"
      ]
     },
     "execution_count": 33,
     "metadata": {},
     "output_type": "execute_result"
    }
   ],
   "source": [
    "lda_model.get_document_topics(corpus_bow[50])"
   ]
  },
  {
   "cell_type": "code",
   "execution_count": 31,
   "metadata": {},
   "outputs": [
    {
     "name": "stdout",
     "output_type": "stream",
     "text": [
      "('The Youth Forest Monitoring Program (YFMP) is an intensive 7-week summer '\n",
      " 'internship for high school students. Participants explore forest ecology, '\n",
      " 'investigate natural resource careers, improve forest health through '\n",
      " 'stewardship projects, and supplement forest analysis through citizen-led '\n",
      " 'forest health monitoring.Ecology and environment,  Nature and outdoorsforest '\n",
      " 'ecology, forest health, natural resource careers')\n"
     ]
    }
   ],
   "source": [
    "pprint(projects[200])"
   ]
  }
 ],
 "metadata": {
  "kernelspec": {
   "display_name": ".venv",
   "language": "python",
   "name": "python3"
  },
  "language_info": {
   "codemirror_mode": {
    "name": "ipython",
    "version": 3
   },
   "file_extension": ".py",
   "mimetype": "text/x-python",
   "name": "python",
   "nbconvert_exporter": "python",
   "pygments_lexer": "ipython3",
   "version": "3.10.12"
  },
  "orig_nbformat": 4
 },
 "nbformat": 4,
 "nbformat_minor": 2
}
